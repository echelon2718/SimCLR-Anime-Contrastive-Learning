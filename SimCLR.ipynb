{
 "cells": [
  {
   "cell_type": "code",
   "execution_count": 1,
   "id": "f7535286-7e7f-47c0-aa5a-aa48e29d5ac1",
   "metadata": {},
   "outputs": [],
   "source": [
    "import os\n",
    "import torch\n",
    "import torch.nn as nn\n",
    "import torch.optim as optim\n",
    "from torchvision import datasets, transforms\n",
    "from torch.utils.data import Dataset, DataLoader, random_split\n",
    "from PIL import Image\n",
    "from tqdm.notebook import tqdm\n",
    "\n",
    "\n",
    "class SimCLRDualTransformDataset(Dataset):\n",
    "    def __init__(self, root_dir, transform=None):\n",
    "        self.root_dir = root_dir\n",
    "        self.transform = transform\n",
    "        self.image_paths = []\n",
    "        \n",
    "        for cls in os.listdir(root_dir):\n",
    "            cls_dir = os.path.join(root_dir, cls)\n",
    "            if os.path.isdir(cls_dir):\n",
    "                for img_name in os.listdir(cls_dir):\n",
    "                    img_path = os.path.join(cls_dir, img_name)\n",
    "                    if os.path.isfile(img_path):\n",
    "                        self.image_paths.append(img_path)\n",
    "    \n",
    "    def __len__(self):\n",
    "        return len(self.image_paths)\n",
    "    \n",
    "    def __getitem__(self, idx):\n",
    "        img_path = self.image_paths[idx]\n",
    "        image = Image.open(img_path).convert(\"RGB\")\n",
    "        if self.transform:\n",
    "            img1 = self.transform(image)\n",
    "            img2 = self.transform(image)\n",
    "        return img1, img2\n",
    "\n",
    "train_transforms = transforms.Compose([\n",
    "    transforms.RandomResizedCrop(size=128),\n",
    "    transforms.RandomHorizontalFlip(),\n",
    "    transforms.ColorJitter(0.4, 0.4, 0.4, 0.4),\n",
    "    transforms.RandomGrayscale(p=0.2),\n",
    "    transforms.ToTensor(),\n",
    "    transforms.Normalize(mean=[0.5, 0.5, 0.5], std=[0.5, 0.5, 0.5])\n",
    "])\n",
    "\n",
    "# Load dataset\n",
    "data_dir = \"../image-to-image-generation/makoto-shinkai-sketch-to-anime-dataset/shinkai_set\"\n",
    "dataset = SimCLRDualTransformDataset(root_dir=data_dir, transform=train_transforms)\n",
    "train_loader = DataLoader(dataset, batch_size=128, shuffle=True, num_workers=4)"
   ]
  },
  {
   "cell_type": "code",
   "execution_count": 38,
   "id": "9b8d01b8-cd5f-42f1-9134-3d99035d9eac",
   "metadata": {},
   "outputs": [
    {
     "name": "stderr",
     "output_type": "stream",
     "text": [
      "/home/riset/.local/lib/python3.10/site-packages/torchvision/models/_utils.py:208: UserWarning: The parameter 'pretrained' is deprecated since 0.13 and may be removed in the future, please use 'weights' instead.\n",
      "  warnings.warn(\n",
      "/home/riset/.local/lib/python3.10/site-packages/torchvision/models/_utils.py:223: UserWarning: Arguments other than a weight enum or `None` for 'weights' are deprecated since 0.13 and may be removed in the future. The current behavior is equivalent to passing `weights=None`.\n",
      "  warnings.warn(msg)\n"
     ]
    }
   ],
   "source": [
    "import torch\n",
    "import torch.nn as nn\n",
    "import torchvision.models as models\n",
    "\n",
    "class SimCLRv2(nn.Module):\n",
    "    def __init__(self, base_model, out_dim):\n",
    "        super(SimCLRv2, self).__init__()\n",
    "        self.backbone = base_model\n",
    "        num_ftrs = self.backbone.fc.in_features  # Access in_features before replacing\n",
    "        self.backbone.fc = nn.Identity()  # Remove the original fully connected layer\n",
    "        self.projection_head = nn.Sequential(\n",
    "            nn.Linear(num_ftrs, 2048),\n",
    "            nn.BatchNorm1d(2048),\n",
    "            nn.ReLU(),\n",
    "            nn.Linear(2048, 2048),\n",
    "            nn.BatchNorm1d(2048),\n",
    "            nn.ReLU(),\n",
    "            nn.Linear(2048, out_dim)\n",
    "        )\n",
    "    \n",
    "    def forward(self, x):\n",
    "        features = self.backbone(x)\n",
    "        projections = self.projection_head(features)\n",
    "        return projections\n",
    "\n",
    "# Initialize a larger ResNet model, for example, ResNet50\n",
    "device = torch.device(\"cuda\" if torch.cuda.is_available() else \"cpu\")\n",
    "resnet50 = models.resnet50(pretrained=False)\n",
    "model = SimCLRv2(base_model=resnet50, out_dim=128).to(device)"
   ]
  },
  {
   "cell_type": "code",
   "execution_count": 3,
   "id": "a3354bf6-3a69-40f6-8391-6c9de984b865",
   "metadata": {},
   "outputs": [],
   "source": [
    "class NTXentLoss(nn.Module):\n",
    "    def __init__(self, batch_size, temperature, device):\n",
    "        super(NTXentLoss, self).__init__()\n",
    "        self.batch_size = batch_size\n",
    "        self.temperature = temperature\n",
    "        self.device = device\n",
    "        self.similarity_f = nn.CosineSimilarity(dim=2)\n",
    "        self.criterion = nn.CrossEntropyLoss(reduction=\"sum\")\n",
    "\n",
    "    def forward(self, z_i, z_j):\n",
    "        batch_size = z_i.size(0)\n",
    "        N = 2 * batch_size\n",
    "        z = torch.cat((z_i, z_j), dim=0)\n",
    "        sim = self.similarity_f(z.unsqueeze(1), z.unsqueeze(0)) / self.temperature\n",
    "        \n",
    "        # Exclude self-similarities (diagonal elements)\n",
    "        sim_i_j = torch.diag(sim, batch_size)\n",
    "        sim_j_i = torch.diag(sim, -batch_size)\n",
    "        positives = torch.cat((sim_i_j, sim_j_i), dim=0)\n",
    "        \n",
    "        # Exclude diagonal elements\n",
    "        mask = torch.eye(N, dtype=torch.bool, device=self.device)\n",
    "        negatives = sim[~mask].view(N, -1)\n",
    "        \n",
    "        labels = torch.zeros(N, dtype=torch.long, device=self.device)\n",
    "        logits = torch.cat((positives.unsqueeze(1), negatives), dim=1)\n",
    "        \n",
    "        # Compute cross-entropy loss\n",
    "        loss = self.criterion(logits, labels)\n",
    "        loss /= N\n",
    "        return loss\n",
    "\n",
    "criterion = NTXentLoss(batch_size=128, temperature=0.5, device=device)\n",
    "optimizer = optim.Adam(model.parameters(), lr=3e-4, weight_decay=1e-6)"
   ]
  },
  {
   "cell_type": "code",
   "execution_count": 4,
   "id": "987c70e5-d7ac-4709-9fe5-b0e9bdb2432a",
   "metadata": {},
   "outputs": [
    {
     "data": {
      "application/vnd.jupyter.widget-view+json": {
       "model_id": "aee3a29c83f543d78655027a53e25d59",
       "version_major": 2,
       "version_minor": 0
      },
      "text/plain": [
       "Epoch 1/100:   0%|          | 0/226 [00:00<?, ?it/s]"
      ]
     },
     "metadata": {},
     "output_type": "display_data"
    },
    {
     "name": "stdout",
     "output_type": "stream",
     "text": [
      "Epoch [1/100], Loss: 4.7961205381207765\n"
     ]
    },
    {
     "data": {
      "application/vnd.jupyter.widget-view+json": {
       "model_id": "a6227de3458446268d6199b9189bf3bf",
       "version_major": 2,
       "version_minor": 0
      },
      "text/plain": [
       "Epoch 2/100:   0%|          | 0/226 [00:00<?, ?it/s]"
      ]
     },
     "metadata": {},
     "output_type": "display_data"
    },
    {
     "name": "stdout",
     "output_type": "stream",
     "text": [
      "Epoch [2/100], Loss: 4.5848639043031545\n"
     ]
    },
    {
     "data": {
      "application/vnd.jupyter.widget-view+json": {
       "model_id": "063fceded5034042a8e99abb2ce49263",
       "version_major": 2,
       "version_minor": 0
      },
      "text/plain": [
       "Epoch 3/100:   0%|          | 0/226 [00:00<?, ?it/s]"
      ]
     },
     "metadata": {},
     "output_type": "display_data"
    },
    {
     "name": "stdout",
     "output_type": "stream",
     "text": [
      "Epoch [3/100], Loss: 4.491459449835583\n"
     ]
    },
    {
     "data": {
      "application/vnd.jupyter.widget-view+json": {
       "model_id": "25621eaa1ad545e3a6ca9d5d2eec1848",
       "version_major": 2,
       "version_minor": 0
      },
      "text/plain": [
       "Epoch 4/100:   0%|          | 0/226 [00:00<?, ?it/s]"
      ]
     },
     "metadata": {},
     "output_type": "display_data"
    },
    {
     "name": "stdout",
     "output_type": "stream",
     "text": [
      "Epoch [4/100], Loss: 4.465847146194593\n"
     ]
    },
    {
     "data": {
      "application/vnd.jupyter.widget-view+json": {
       "model_id": "c078bdd9d4e54933b30fd774ca79f48c",
       "version_major": 2,
       "version_minor": 0
      },
      "text/plain": [
       "Epoch 5/100:   0%|          | 0/226 [00:00<?, ?it/s]"
      ]
     },
     "metadata": {},
     "output_type": "display_data"
    },
    {
     "name": "stdout",
     "output_type": "stream",
     "text": [
      "Epoch [5/100], Loss: 4.4414825956378365\n"
     ]
    },
    {
     "data": {
      "application/vnd.jupyter.widget-view+json": {
       "model_id": "74c9b02c9d7844e5a6b2d033e54a021a",
       "version_major": 2,
       "version_minor": 0
      },
      "text/plain": [
       "Epoch 6/100:   0%|          | 0/226 [00:00<?, ?it/s]"
      ]
     },
     "metadata": {},
     "output_type": "display_data"
    },
    {
     "name": "stdout",
     "output_type": "stream",
     "text": [
      "Epoch [6/100], Loss: 4.419696735069815\n"
     ]
    },
    {
     "data": {
      "application/vnd.jupyter.widget-view+json": {
       "model_id": "b266c440463049728d3877d1627bee2d",
       "version_major": 2,
       "version_minor": 0
      },
      "text/plain": [
       "Epoch 7/100:   0%|          | 0/226 [00:00<?, ?it/s]"
      ]
     },
     "metadata": {},
     "output_type": "display_data"
    },
    {
     "name": "stdout",
     "output_type": "stream",
     "text": [
      "Epoch [7/100], Loss: 4.407511649933537\n"
     ]
    },
    {
     "data": {
      "application/vnd.jupyter.widget-view+json": {
       "model_id": "da79a30da5a346d9a476d42d30417e43",
       "version_major": 2,
       "version_minor": 0
      },
      "text/plain": [
       "Epoch 8/100:   0%|          | 0/226 [00:00<?, ?it/s]"
      ]
     },
     "metadata": {},
     "output_type": "display_data"
    },
    {
     "name": "stdout",
     "output_type": "stream",
     "text": [
      "Epoch [8/100], Loss: 4.391760054942781\n"
     ]
    },
    {
     "data": {
      "application/vnd.jupyter.widget-view+json": {
       "model_id": "8379aaba2d0b49a280827ab127345af5",
       "version_major": 2,
       "version_minor": 0
      },
      "text/plain": [
       "Epoch 9/100:   0%|          | 0/226 [00:00<?, ?it/s]"
      ]
     },
     "metadata": {},
     "output_type": "display_data"
    },
    {
     "name": "stdout",
     "output_type": "stream",
     "text": [
      "Epoch [9/100], Loss: 4.3743700780699735\n"
     ]
    },
    {
     "data": {
      "application/vnd.jupyter.widget-view+json": {
       "model_id": "8a0c7745029e428c8b3f16b8f957a2ec",
       "version_major": 2,
       "version_minor": 0
      },
      "text/plain": [
       "Epoch 10/100:   0%|          | 0/226 [00:00<?, ?it/s]"
      ]
     },
     "metadata": {},
     "output_type": "display_data"
    },
    {
     "name": "stdout",
     "output_type": "stream",
     "text": [
      "Epoch [10/100], Loss: 4.365155837177175\n"
     ]
    },
    {
     "data": {
      "application/vnd.jupyter.widget-view+json": {
       "model_id": "45337b42165b4a69b66484101613fc2d",
       "version_major": 2,
       "version_minor": 0
      },
      "text/plain": [
       "Epoch 11/100:   0%|          | 0/226 [00:00<?, ?it/s]"
      ]
     },
     "metadata": {},
     "output_type": "display_data"
    },
    {
     "name": "stdout",
     "output_type": "stream",
     "text": [
      "Epoch [11/100], Loss: 4.3450177380468995\n"
     ]
    },
    {
     "data": {
      "application/vnd.jupyter.widget-view+json": {
       "model_id": "71ad7d1066a04f7a9f8003c88a986cd5",
       "version_major": 2,
       "version_minor": 0
      },
      "text/plain": [
       "Epoch 12/100:   0%|          | 0/226 [00:00<?, ?it/s]"
      ]
     },
     "metadata": {},
     "output_type": "display_data"
    },
    {
     "name": "stdout",
     "output_type": "stream",
     "text": [
      "Epoch [12/100], Loss: 4.348459560259253\n"
     ]
    },
    {
     "data": {
      "application/vnd.jupyter.widget-view+json": {
       "model_id": "a1b225a2149a462991fcbf0068bd0c4a",
       "version_major": 2,
       "version_minor": 0
      },
      "text/plain": [
       "Epoch 13/100:   0%|          | 0/226 [00:00<?, ?it/s]"
      ]
     },
     "metadata": {},
     "output_type": "display_data"
    },
    {
     "name": "stdout",
     "output_type": "stream",
     "text": [
      "Epoch [13/100], Loss: 4.332423402144846\n"
     ]
    },
    {
     "data": {
      "application/vnd.jupyter.widget-view+json": {
       "model_id": "fc8ec9e956c849de9b30b16f4d933e9f",
       "version_major": 2,
       "version_minor": 0
      },
      "text/plain": [
       "Epoch 14/100:   0%|          | 0/226 [00:00<?, ?it/s]"
      ]
     },
     "metadata": {},
     "output_type": "display_data"
    },
    {
     "name": "stdout",
     "output_type": "stream",
     "text": [
      "Epoch [14/100], Loss: 4.323900177415493\n"
     ]
    },
    {
     "data": {
      "application/vnd.jupyter.widget-view+json": {
       "model_id": "5ae37af39e3a4dccb719857b6fcf91ca",
       "version_major": 2,
       "version_minor": 0
      },
      "text/plain": [
       "Epoch 15/100:   0%|          | 0/226 [00:00<?, ?it/s]"
      ]
     },
     "metadata": {},
     "output_type": "display_data"
    },
    {
     "name": "stdout",
     "output_type": "stream",
     "text": [
      "Epoch [15/100], Loss: 4.314159826894777\n"
     ]
    },
    {
     "data": {
      "application/vnd.jupyter.widget-view+json": {
       "model_id": "5183f5e4a076409d931eed18e1e5c0cb",
       "version_major": 2,
       "version_minor": 0
      },
      "text/plain": [
       "Epoch 16/100:   0%|          | 0/226 [00:00<?, ?it/s]"
      ]
     },
     "metadata": {},
     "output_type": "display_data"
    },
    {
     "name": "stdout",
     "output_type": "stream",
     "text": [
      "Epoch [16/100], Loss: 4.301474750569437\n"
     ]
    },
    {
     "data": {
      "application/vnd.jupyter.widget-view+json": {
       "model_id": "62ea01e506f44d459a73b9aa970ed66b",
       "version_major": 2,
       "version_minor": 0
      },
      "text/plain": [
       "Epoch 17/100:   0%|          | 0/226 [00:00<?, ?it/s]"
      ]
     },
     "metadata": {},
     "output_type": "display_data"
    },
    {
     "name": "stdout",
     "output_type": "stream",
     "text": [
      "Epoch [17/100], Loss: 4.288072702104011\n"
     ]
    },
    {
     "data": {
      "application/vnd.jupyter.widget-view+json": {
       "model_id": "ed3cd3ad726e461e87d5c3e701ca593e",
       "version_major": 2,
       "version_minor": 0
      },
      "text/plain": [
       "Epoch 18/100:   0%|          | 0/226 [00:00<?, ?it/s]"
      ]
     },
     "metadata": {},
     "output_type": "display_data"
    },
    {
     "name": "stdout",
     "output_type": "stream",
     "text": [
      "Epoch [18/100], Loss: 4.273064686133798\n"
     ]
    },
    {
     "data": {
      "application/vnd.jupyter.widget-view+json": {
       "model_id": "bc70e7c1ddce4dbd85f57feb65a75ff2",
       "version_major": 2,
       "version_minor": 0
      },
      "text/plain": [
       "Epoch 19/100:   0%|          | 0/226 [00:00<?, ?it/s]"
      ]
     },
     "metadata": {},
     "output_type": "display_data"
    },
    {
     "name": "stdout",
     "output_type": "stream",
     "text": [
      "Epoch [19/100], Loss: 4.264677864260378\n"
     ]
    },
    {
     "data": {
      "application/vnd.jupyter.widget-view+json": {
       "model_id": "3dca3f1730994bbca3df959c985103c9",
       "version_major": 2,
       "version_minor": 0
      },
      "text/plain": [
       "Epoch 20/100:   0%|          | 0/226 [00:00<?, ?it/s]"
      ]
     },
     "metadata": {},
     "output_type": "display_data"
    },
    {
     "name": "stdout",
     "output_type": "stream",
     "text": [
      "Epoch [20/100], Loss: 4.255859762166454\n"
     ]
    },
    {
     "data": {
      "application/vnd.jupyter.widget-view+json": {
       "model_id": "858c6bb3275b422d8b7acae4ba942eea",
       "version_major": 2,
       "version_minor": 0
      },
      "text/plain": [
       "Epoch 21/100:   0%|          | 0/226 [00:00<?, ?it/s]"
      ]
     },
     "metadata": {},
     "output_type": "display_data"
    },
    {
     "name": "stdout",
     "output_type": "stream",
     "text": [
      "Epoch [21/100], Loss: 4.245787374741208\n"
     ]
    },
    {
     "data": {
      "application/vnd.jupyter.widget-view+json": {
       "model_id": "18d97955d12f4f75847f10dec74932a7",
       "version_major": 2,
       "version_minor": 0
      },
      "text/plain": [
       "Epoch 22/100:   0%|          | 0/226 [00:00<?, ?it/s]"
      ]
     },
     "metadata": {},
     "output_type": "display_data"
    },
    {
     "name": "stdout",
     "output_type": "stream",
     "text": [
      "Epoch [22/100], Loss: 4.242486007445682\n"
     ]
    },
    {
     "data": {
      "application/vnd.jupyter.widget-view+json": {
       "model_id": "c05861f3bb3f443abacbe167b308361f",
       "version_major": 2,
       "version_minor": 0
      },
      "text/plain": [
       "Epoch 23/100:   0%|          | 0/226 [00:00<?, ?it/s]"
      ]
     },
     "metadata": {},
     "output_type": "display_data"
    },
    {
     "name": "stdout",
     "output_type": "stream",
     "text": [
      "Epoch [23/100], Loss: 4.225167571970847\n"
     ]
    },
    {
     "data": {
      "application/vnd.jupyter.widget-view+json": {
       "model_id": "9c38ef2eb04f4d7b946035aa1630ca0b",
       "version_major": 2,
       "version_minor": 0
      },
      "text/plain": [
       "Epoch 24/100:   0%|          | 0/226 [00:00<?, ?it/s]"
      ]
     },
     "metadata": {},
     "output_type": "display_data"
    },
    {
     "name": "stdout",
     "output_type": "stream",
     "text": [
      "Epoch [24/100], Loss: 4.227240878923804\n"
     ]
    },
    {
     "data": {
      "application/vnd.jupyter.widget-view+json": {
       "model_id": "81c0a5ddd2f142689b6305a88f92d758",
       "version_major": 2,
       "version_minor": 0
      },
      "text/plain": [
       "Epoch 25/100:   0%|          | 0/226 [00:00<?, ?it/s]"
      ]
     },
     "metadata": {},
     "output_type": "display_data"
    },
    {
     "name": "stdout",
     "output_type": "stream",
     "text": [
      "Epoch [25/100], Loss: 4.214790744064128\n"
     ]
    },
    {
     "data": {
      "application/vnd.jupyter.widget-view+json": {
       "model_id": "c81a500bebed49d7937fed92dc7af02f",
       "version_major": 2,
       "version_minor": 0
      },
      "text/plain": [
       "Epoch 26/100:   0%|          | 0/226 [00:00<?, ?it/s]"
      ]
     },
     "metadata": {},
     "output_type": "display_data"
    },
    {
     "name": "stdout",
     "output_type": "stream",
     "text": [
      "Epoch [26/100], Loss: 4.2155604837215055\n"
     ]
    },
    {
     "data": {
      "application/vnd.jupyter.widget-view+json": {
       "model_id": "b1e6979840804e67b2bc5eecad4f2c95",
       "version_major": 2,
       "version_minor": 0
      },
      "text/plain": [
       "Epoch 27/100:   0%|          | 0/226 [00:00<?, ?it/s]"
      ]
     },
     "metadata": {},
     "output_type": "display_data"
    },
    {
     "name": "stdout",
     "output_type": "stream",
     "text": [
      "Epoch [27/100], Loss: 4.209458207662126\n"
     ]
    },
    {
     "data": {
      "application/vnd.jupyter.widget-view+json": {
       "model_id": "d17ac2e4d195494c872fffe6a8c500e0",
       "version_major": 2,
       "version_minor": 0
      },
      "text/plain": [
       "Epoch 28/100:   0%|          | 0/226 [00:00<?, ?it/s]"
      ]
     },
     "metadata": {},
     "output_type": "display_data"
    },
    {
     "name": "stdout",
     "output_type": "stream",
     "text": [
      "Epoch [28/100], Loss: 4.2047960220185\n"
     ]
    },
    {
     "data": {
      "application/vnd.jupyter.widget-view+json": {
       "model_id": "5dc651010b4b446193b4f2087b960060",
       "version_major": 2,
       "version_minor": 0
      },
      "text/plain": [
       "Epoch 29/100:   0%|          | 0/226 [00:00<?, ?it/s]"
      ]
     },
     "metadata": {},
     "output_type": "display_data"
    },
    {
     "name": "stdout",
     "output_type": "stream",
     "text": [
      "Epoch [29/100], Loss: 4.202152545473217\n"
     ]
    },
    {
     "data": {
      "application/vnd.jupyter.widget-view+json": {
       "model_id": "8bffc3748cf84c0997aa40787c74859b",
       "version_major": 2,
       "version_minor": 0
      },
      "text/plain": [
       "Epoch 30/100:   0%|          | 0/226 [00:00<?, ?it/s]"
      ]
     },
     "metadata": {},
     "output_type": "display_data"
    },
    {
     "name": "stdout",
     "output_type": "stream",
     "text": [
      "Epoch [30/100], Loss: 4.198915592337077\n"
     ]
    },
    {
     "data": {
      "application/vnd.jupyter.widget-view+json": {
       "model_id": "4f4703611b1e4db6a4c05106cb5389b9",
       "version_major": 2,
       "version_minor": 0
      },
      "text/plain": [
       "Epoch 31/100:   0%|          | 0/226 [00:00<?, ?it/s]"
      ]
     },
     "metadata": {},
     "output_type": "display_data"
    },
    {
     "name": "stdout",
     "output_type": "stream",
     "text": [
      "Epoch [31/100], Loss: 4.189719929104358\n"
     ]
    },
    {
     "data": {
      "application/vnd.jupyter.widget-view+json": {
       "model_id": "27f2f96778bc4a488623918e4e508769",
       "version_major": 2,
       "version_minor": 0
      },
      "text/plain": [
       "Epoch 32/100:   0%|          | 0/226 [00:00<?, ?it/s]"
      ]
     },
     "metadata": {},
     "output_type": "display_data"
    },
    {
     "name": "stdout",
     "output_type": "stream",
     "text": [
      "Epoch [32/100], Loss: 4.186199373903528\n"
     ]
    },
    {
     "data": {
      "application/vnd.jupyter.widget-view+json": {
       "model_id": "13754618909642719256da731fa2de80",
       "version_major": 2,
       "version_minor": 0
      },
      "text/plain": [
       "Epoch 33/100:   0%|          | 0/226 [00:00<?, ?it/s]"
      ]
     },
     "metadata": {},
     "output_type": "display_data"
    },
    {
     "name": "stdout",
     "output_type": "stream",
     "text": [
      "Epoch [33/100], Loss: 4.190201735074541\n"
     ]
    },
    {
     "data": {
      "application/vnd.jupyter.widget-view+json": {
       "model_id": "b69696753e0649c7b10c5ae7b2dfdddc",
       "version_major": 2,
       "version_minor": 0
      },
      "text/plain": [
       "Epoch 34/100:   0%|          | 0/226 [00:00<?, ?it/s]"
      ]
     },
     "metadata": {},
     "output_type": "display_data"
    },
    {
     "name": "stdout",
     "output_type": "stream",
     "text": [
      "Epoch [34/100], Loss: 4.186885674442865\n"
     ]
    },
    {
     "data": {
      "application/vnd.jupyter.widget-view+json": {
       "model_id": "a65f4222f4f7425aaa50155736963c13",
       "version_major": 2,
       "version_minor": 0
      },
      "text/plain": [
       "Epoch 35/100:   0%|          | 0/226 [00:00<?, ?it/s]"
      ]
     },
     "metadata": {},
     "output_type": "display_data"
    },
    {
     "name": "stdout",
     "output_type": "stream",
     "text": [
      "Epoch [35/100], Loss: 4.1847514220043625\n"
     ]
    },
    {
     "data": {
      "application/vnd.jupyter.widget-view+json": {
       "model_id": "375defed2e1948a9bcb1f8f872a3d399",
       "version_major": 2,
       "version_minor": 0
      },
      "text/plain": [
       "Epoch 36/100:   0%|          | 0/226 [00:00<?, ?it/s]"
      ]
     },
     "metadata": {},
     "output_type": "display_data"
    },
    {
     "name": "stdout",
     "output_type": "stream",
     "text": [
      "Epoch [36/100], Loss: 4.18024951588791\n"
     ]
    },
    {
     "data": {
      "application/vnd.jupyter.widget-view+json": {
       "model_id": "76fb7a4a7f4442eeb1909e1f2a6fd739",
       "version_major": 2,
       "version_minor": 0
      },
      "text/plain": [
       "Epoch 37/100:   0%|          | 0/226 [00:00<?, ?it/s]"
      ]
     },
     "metadata": {},
     "output_type": "display_data"
    },
    {
     "name": "stdout",
     "output_type": "stream",
     "text": [
      "Epoch [37/100], Loss: 4.174563152600179\n"
     ]
    },
    {
     "data": {
      "application/vnd.jupyter.widget-view+json": {
       "model_id": "838b607b583e41119865819cfd05148a",
       "version_major": 2,
       "version_minor": 0
      },
      "text/plain": [
       "Epoch 38/100:   0%|          | 0/226 [00:00<?, ?it/s]"
      ]
     },
     "metadata": {},
     "output_type": "display_data"
    },
    {
     "name": "stdout",
     "output_type": "stream",
     "text": [
      "Epoch [38/100], Loss: 4.171216184059076\n"
     ]
    },
    {
     "data": {
      "application/vnd.jupyter.widget-view+json": {
       "model_id": "0e35517455bd498d8eaae0b0a50be649",
       "version_major": 2,
       "version_minor": 0
      },
      "text/plain": [
       "Epoch 39/100:   0%|          | 0/226 [00:00<?, ?it/s]"
      ]
     },
     "metadata": {},
     "output_type": "display_data"
    },
    {
     "name": "stdout",
     "output_type": "stream",
     "text": [
      "Epoch [39/100], Loss: 4.1699446893371315\n"
     ]
    },
    {
     "data": {
      "application/vnd.jupyter.widget-view+json": {
       "model_id": "96394693b1cf4baab57fd5286cfbacbe",
       "version_major": 2,
       "version_minor": 0
      },
      "text/plain": [
       "Epoch 40/100:   0%|          | 0/226 [00:00<?, ?it/s]"
      ]
     },
     "metadata": {},
     "output_type": "display_data"
    },
    {
     "name": "stdout",
     "output_type": "stream",
     "text": [
      "Epoch [40/100], Loss: 4.169342197148146\n"
     ]
    },
    {
     "data": {
      "application/vnd.jupyter.widget-view+json": {
       "model_id": "3505a08096be4346960dc0f636502cf4",
       "version_major": 2,
       "version_minor": 0
      },
      "text/plain": [
       "Epoch 41/100:   0%|          | 0/226 [00:00<?, ?it/s]"
      ]
     },
     "metadata": {},
     "output_type": "display_data"
    },
    {
     "name": "stdout",
     "output_type": "stream",
     "text": [
      "Epoch [41/100], Loss: 4.164575850014138\n"
     ]
    },
    {
     "data": {
      "application/vnd.jupyter.widget-view+json": {
       "model_id": "58cbc695cc0041d297bcafdf0a62db0b",
       "version_major": 2,
       "version_minor": 0
      },
      "text/plain": [
       "Epoch 42/100:   0%|          | 0/226 [00:00<?, ?it/s]"
      ]
     },
     "metadata": {},
     "output_type": "display_data"
    },
    {
     "name": "stdout",
     "output_type": "stream",
     "text": [
      "Epoch [42/100], Loss: 4.164626717567444\n"
     ]
    },
    {
     "data": {
      "application/vnd.jupyter.widget-view+json": {
       "model_id": "9e56a2fa3f984bf7a7be5eed69c5a4f5",
       "version_major": 2,
       "version_minor": 0
      },
      "text/plain": [
       "Epoch 43/100:   0%|          | 0/226 [00:00<?, ?it/s]"
      ]
     },
     "metadata": {},
     "output_type": "display_data"
    },
    {
     "name": "stdout",
     "output_type": "stream",
     "text": [
      "Epoch [43/100], Loss: 4.158396113235338\n"
     ]
    },
    {
     "data": {
      "application/vnd.jupyter.widget-view+json": {
       "model_id": "3351468ec1764ea7bb0cc09351e9a8b5",
       "version_major": 2,
       "version_minor": 0
      },
      "text/plain": [
       "Epoch 44/100:   0%|          | 0/226 [00:00<?, ?it/s]"
      ]
     },
     "metadata": {},
     "output_type": "display_data"
    },
    {
     "name": "stdout",
     "output_type": "stream",
     "text": [
      "Epoch [44/100], Loss: 4.152486239914346\n"
     ]
    },
    {
     "data": {
      "application/vnd.jupyter.widget-view+json": {
       "model_id": "33872269f4274bc49f91e8df58d73b72",
       "version_major": 2,
       "version_minor": 0
      },
      "text/plain": [
       "Epoch 45/100:   0%|          | 0/226 [00:00<?, ?it/s]"
      ]
     },
     "metadata": {},
     "output_type": "display_data"
    },
    {
     "name": "stdout",
     "output_type": "stream",
     "text": [
      "Epoch [45/100], Loss: 4.153601402730013\n"
     ]
    },
    {
     "data": {
      "application/vnd.jupyter.widget-view+json": {
       "model_id": "d7aeded500634d4dbc6bf127dd3b879c",
       "version_major": 2,
       "version_minor": 0
      },
      "text/plain": [
       "Epoch 46/100:   0%|          | 0/226 [00:00<?, ?it/s]"
      ]
     },
     "metadata": {},
     "output_type": "display_data"
    },
    {
     "name": "stdout",
     "output_type": "stream",
     "text": [
      "Epoch [46/100], Loss: 4.148077952123321\n"
     ]
    },
    {
     "data": {
      "application/vnd.jupyter.widget-view+json": {
       "model_id": "8dffe73af0e14083a71534fe1913fa4f",
       "version_major": 2,
       "version_minor": 0
      },
      "text/plain": [
       "Epoch 47/100:   0%|          | 0/226 [00:00<?, ?it/s]"
      ]
     },
     "metadata": {},
     "output_type": "display_data"
    },
    {
     "name": "stdout",
     "output_type": "stream",
     "text": [
      "Epoch [47/100], Loss: 4.147171919324757\n"
     ]
    },
    {
     "data": {
      "application/vnd.jupyter.widget-view+json": {
       "model_id": "4fea21eb104d4ec68d2bd3f9fc60bc25",
       "version_major": 2,
       "version_minor": 0
      },
      "text/plain": [
       "Epoch 48/100:   0%|          | 0/226 [00:00<?, ?it/s]"
      ]
     },
     "metadata": {},
     "output_type": "display_data"
    },
    {
     "name": "stdout",
     "output_type": "stream",
     "text": [
      "Epoch [48/100], Loss: 4.14933592872282\n"
     ]
    },
    {
     "data": {
      "application/vnd.jupyter.widget-view+json": {
       "model_id": "c6b43b08a42240919bd542e42605ee24",
       "version_major": 2,
       "version_minor": 0
      },
      "text/plain": [
       "Epoch 49/100:   0%|          | 0/226 [00:00<?, ?it/s]"
      ]
     },
     "metadata": {},
     "output_type": "display_data"
    },
    {
     "name": "stdout",
     "output_type": "stream",
     "text": [
      "Epoch [49/100], Loss: 4.144285271653032\n"
     ]
    },
    {
     "data": {
      "application/vnd.jupyter.widget-view+json": {
       "model_id": "edd0617951584a5aba9de8a8b6aabb9e",
       "version_major": 2,
       "version_minor": 0
      },
      "text/plain": [
       "Epoch 50/100:   0%|          | 0/226 [00:00<?, ?it/s]"
      ]
     },
     "metadata": {},
     "output_type": "display_data"
    },
    {
     "name": "stdout",
     "output_type": "stream",
     "text": [
      "Epoch [50/100], Loss: 4.143731114083686\n"
     ]
    },
    {
     "data": {
      "application/vnd.jupyter.widget-view+json": {
       "model_id": "448ec4fed9d9402eb57028cb87a5ab02",
       "version_major": 2,
       "version_minor": 0
      },
      "text/plain": [
       "Epoch 51/100:   0%|          | 0/226 [00:00<?, ?it/s]"
      ]
     },
     "metadata": {},
     "output_type": "display_data"
    },
    {
     "name": "stdout",
     "output_type": "stream",
     "text": [
      "Epoch [51/100], Loss: 4.142270064986913\n"
     ]
    },
    {
     "data": {
      "application/vnd.jupyter.widget-view+json": {
       "model_id": "5cd0a44a3bc746b19f54ac1c6ce75831",
       "version_major": 2,
       "version_minor": 0
      },
      "text/plain": [
       "Epoch 52/100:   0%|          | 0/226 [00:00<?, ?it/s]"
      ]
     },
     "metadata": {},
     "output_type": "display_data"
    },
    {
     "name": "stdout",
     "output_type": "stream",
     "text": [
      "Epoch [52/100], Loss: 4.141958264123022\n"
     ]
    },
    {
     "data": {
      "application/vnd.jupyter.widget-view+json": {
       "model_id": "646f127bce3049fca65ece909456097b",
       "version_major": 2,
       "version_minor": 0
      },
      "text/plain": [
       "Epoch 53/100:   0%|          | 0/226 [00:00<?, ?it/s]"
      ]
     },
     "metadata": {},
     "output_type": "display_data"
    },
    {
     "name": "stdout",
     "output_type": "stream",
     "text": [
      "Epoch [53/100], Loss: 4.138505095929171\n"
     ]
    },
    {
     "data": {
      "application/vnd.jupyter.widget-view+json": {
       "model_id": "18770a5a296348dfab62501a2b1aeb77",
       "version_major": 2,
       "version_minor": 0
      },
      "text/plain": [
       "Epoch 54/100:   0%|          | 0/226 [00:00<?, ?it/s]"
      ]
     },
     "metadata": {},
     "output_type": "display_data"
    },
    {
     "name": "stdout",
     "output_type": "stream",
     "text": [
      "Epoch [54/100], Loss: 4.135797120828544\n"
     ]
    },
    {
     "data": {
      "application/vnd.jupyter.widget-view+json": {
       "model_id": "99e5a82234fc4f5883e3e6bbc471ef0b",
       "version_major": 2,
       "version_minor": 0
      },
      "text/plain": [
       "Epoch 55/100:   0%|          | 0/226 [00:00<?, ?it/s]"
      ]
     },
     "metadata": {},
     "output_type": "display_data"
    },
    {
     "name": "stdout",
     "output_type": "stream",
     "text": [
      "Epoch [55/100], Loss: 4.132362055567514\n"
     ]
    },
    {
     "data": {
      "application/vnd.jupyter.widget-view+json": {
       "model_id": "9111868c6115456b9a433629a00cea29",
       "version_major": 2,
       "version_minor": 0
      },
      "text/plain": [
       "Epoch 56/100:   0%|          | 0/226 [00:00<?, ?it/s]"
      ]
     },
     "metadata": {},
     "output_type": "display_data"
    },
    {
     "name": "stdout",
     "output_type": "stream",
     "text": [
      "Epoch [56/100], Loss: 4.129190362660231\n"
     ]
    },
    {
     "data": {
      "application/vnd.jupyter.widget-view+json": {
       "model_id": "4a6c8a896b434d15a8c01dfbe75d1823",
       "version_major": 2,
       "version_minor": 0
      },
      "text/plain": [
       "Epoch 57/100:   0%|          | 0/226 [00:00<?, ?it/s]"
      ]
     },
     "metadata": {},
     "output_type": "display_data"
    },
    {
     "name": "stdout",
     "output_type": "stream",
     "text": [
      "Epoch [57/100], Loss: 4.125085123872335\n"
     ]
    },
    {
     "data": {
      "application/vnd.jupyter.widget-view+json": {
       "model_id": "5d8187fe20b84bee9dd4d006071af7cc",
       "version_major": 2,
       "version_minor": 0
      },
      "text/plain": [
       "Epoch 58/100:   0%|          | 0/226 [00:00<?, ?it/s]"
      ]
     },
     "metadata": {},
     "output_type": "display_data"
    },
    {
     "name": "stdout",
     "output_type": "stream",
     "text": [
      "Epoch [58/100], Loss: 4.12525770938502\n"
     ]
    },
    {
     "data": {
      "application/vnd.jupyter.widget-view+json": {
       "model_id": "d43c1101f6e14b84afc3cebea4713a4d",
       "version_major": 2,
       "version_minor": 0
      },
      "text/plain": [
       "Epoch 59/100:   0%|          | 0/226 [00:00<?, ?it/s]"
      ]
     },
     "metadata": {},
     "output_type": "display_data"
    },
    {
     "name": "stdout",
     "output_type": "stream",
     "text": [
      "Epoch [59/100], Loss: 4.130932567393885\n"
     ]
    },
    {
     "data": {
      "application/vnd.jupyter.widget-view+json": {
       "model_id": "e5769e3026014ef2aa5f4b1790884711",
       "version_major": 2,
       "version_minor": 0
      },
      "text/plain": [
       "Epoch 60/100:   0%|          | 0/226 [00:00<?, ?it/s]"
      ]
     },
     "metadata": {},
     "output_type": "display_data"
    },
    {
     "name": "stdout",
     "output_type": "stream",
     "text": [
      "Epoch [60/100], Loss: 4.123395639183247\n"
     ]
    },
    {
     "data": {
      "application/vnd.jupyter.widget-view+json": {
       "model_id": "4e6fe7a696d340f79a54d0c5d7fb8984",
       "version_major": 2,
       "version_minor": 0
      },
      "text/plain": [
       "Epoch 61/100:   0%|          | 0/226 [00:00<?, ?it/s]"
      ]
     },
     "metadata": {},
     "output_type": "display_data"
    },
    {
     "name": "stdout",
     "output_type": "stream",
     "text": [
      "Epoch [61/100], Loss: 4.118956162866238\n"
     ]
    },
    {
     "data": {
      "application/vnd.jupyter.widget-view+json": {
       "model_id": "5c89387fa7b0462b9a7a025e20b328e5",
       "version_major": 2,
       "version_minor": 0
      },
      "text/plain": [
       "Epoch 62/100:   0%|          | 0/226 [00:00<?, ?it/s]"
      ]
     },
     "metadata": {},
     "output_type": "display_data"
    },
    {
     "name": "stdout",
     "output_type": "stream",
     "text": [
      "Epoch [62/100], Loss: 4.118304842341263\n"
     ]
    },
    {
     "data": {
      "application/vnd.jupyter.widget-view+json": {
       "model_id": "c9cb5216aa9547a19b1cb97121615a56",
       "version_major": 2,
       "version_minor": 0
      },
      "text/plain": [
       "Epoch 63/100:   0%|          | 0/226 [00:00<?, ?it/s]"
      ]
     },
     "metadata": {},
     "output_type": "display_data"
    },
    {
     "name": "stdout",
     "output_type": "stream",
     "text": [
      "Epoch [63/100], Loss: 4.117117783664602\n"
     ]
    },
    {
     "data": {
      "application/vnd.jupyter.widget-view+json": {
       "model_id": "bc1c9219cc0249efbd3a9ffa8441fcf0",
       "version_major": 2,
       "version_minor": 0
      },
      "text/plain": [
       "Epoch 64/100:   0%|          | 0/226 [00:00<?, ?it/s]"
      ]
     },
     "metadata": {},
     "output_type": "display_data"
    },
    {
     "name": "stdout",
     "output_type": "stream",
     "text": [
      "Epoch [64/100], Loss: 4.118491181230123\n"
     ]
    },
    {
     "data": {
      "application/vnd.jupyter.widget-view+json": {
       "model_id": "6881c58aa00f4bbb9d71096885418fa6",
       "version_major": 2,
       "version_minor": 0
      },
      "text/plain": [
       "Epoch 65/100:   0%|          | 0/226 [00:00<?, ?it/s]"
      ]
     },
     "metadata": {},
     "output_type": "display_data"
    },
    {
     "name": "stderr",
     "output_type": "stream",
     "text": [
      "IOPub message rate exceeded.\n",
      "The Jupyter server will temporarily stop sending output\n",
      "to the client in order to avoid crashing it.\n",
      "To change this limit, set the config variable\n",
      "`--ServerApp.iopub_msg_rate_limit`.\n",
      "\n",
      "Current values:\n",
      "ServerApp.iopub_msg_rate_limit=1000.0 (msgs/sec)\n",
      "ServerApp.rate_limit_window=3.0 (secs)\n",
      "\n"
     ]
    },
    {
     "name": "stdout",
     "output_type": "stream",
     "text": [
      "Epoch [90/100], Loss: 4.0720440318099165\n"
     ]
    },
    {
     "data": {
      "application/vnd.jupyter.widget-view+json": {
       "model_id": "63c2ae4ad644415db3bd94c9312c243b",
       "version_major": 2,
       "version_minor": 0
      },
      "text/plain": [
       "Epoch 91/100:   0%|          | 0/226 [00:00<?, ?it/s]"
      ]
     },
     "metadata": {},
     "output_type": "display_data"
    },
    {
     "name": "stdout",
     "output_type": "stream",
     "text": [
      "Epoch [91/100], Loss: 4.073221338533722\n"
     ]
    },
    {
     "data": {
      "application/vnd.jupyter.widget-view+json": {
       "model_id": "69422a80c02d405b8c67f58cc5f0d656",
       "version_major": 2,
       "version_minor": 0
      },
      "text/plain": [
       "Epoch 92/100:   0%|          | 0/226 [00:00<?, ?it/s]"
      ]
     },
     "metadata": {},
     "output_type": "display_data"
    },
    {
     "name": "stdout",
     "output_type": "stream",
     "text": [
      "Epoch [92/100], Loss: 4.070569195578583\n"
     ]
    },
    {
     "data": {
      "application/vnd.jupyter.widget-view+json": {
       "model_id": "42e225e32e144c48b00f6e80e60c4e95",
       "version_major": 2,
       "version_minor": 0
      },
      "text/plain": [
       "Epoch 93/100:   0%|          | 0/226 [00:00<?, ?it/s]"
      ]
     },
     "metadata": {},
     "output_type": "display_data"
    },
    {
     "name": "stdout",
     "output_type": "stream",
     "text": [
      "Epoch [93/100], Loss: 4.063534161685842\n"
     ]
    },
    {
     "data": {
      "application/vnd.jupyter.widget-view+json": {
       "model_id": "c757c86ce3904e858f2de5bfb9a1794b",
       "version_major": 2,
       "version_minor": 0
      },
      "text/plain": [
       "Epoch 94/100:   0%|          | 0/226 [00:00<?, ?it/s]"
      ]
     },
     "metadata": {},
     "output_type": "display_data"
    },
    {
     "name": "stdout",
     "output_type": "stream",
     "text": [
      "Epoch [94/100], Loss: 4.067432482685663\n"
     ]
    },
    {
     "data": {
      "application/vnd.jupyter.widget-view+json": {
       "model_id": "dfe467dd406c42d3ad33d873e7f1897d",
       "version_major": 2,
       "version_minor": 0
      },
      "text/plain": [
       "Epoch 95/100:   0%|          | 0/226 [00:00<?, ?it/s]"
      ]
     },
     "metadata": {},
     "output_type": "display_data"
    },
    {
     "name": "stdout",
     "output_type": "stream",
     "text": [
      "Epoch [95/100], Loss: 4.06680641976078\n"
     ]
    },
    {
     "data": {
      "application/vnd.jupyter.widget-view+json": {
       "model_id": "a4ed70f39fbb495297cc3720593e6eab",
       "version_major": 2,
       "version_minor": 0
      },
      "text/plain": [
       "Epoch 96/100:   0%|          | 0/226 [00:00<?, ?it/s]"
      ]
     },
     "metadata": {},
     "output_type": "display_data"
    },
    {
     "name": "stdout",
     "output_type": "stream",
     "text": [
      "Epoch [96/100], Loss: 4.064075880346045\n"
     ]
    },
    {
     "data": {
      "application/vnd.jupyter.widget-view+json": {
       "model_id": "4ee78ac197104911a1c9a795e39cf83f",
       "version_major": 2,
       "version_minor": 0
      },
      "text/plain": [
       "Epoch 97/100:   0%|          | 0/226 [00:00<?, ?it/s]"
      ]
     },
     "metadata": {},
     "output_type": "display_data"
    },
    {
     "name": "stdout",
     "output_type": "stream",
     "text": [
      "Epoch [97/100], Loss: 4.061799335268747\n"
     ]
    },
    {
     "data": {
      "application/vnd.jupyter.widget-view+json": {
       "model_id": "58c59414cd344c5c975f0eeab5f88655",
       "version_major": 2,
       "version_minor": 0
      },
      "text/plain": [
       "Epoch 98/100:   0%|          | 0/226 [00:00<?, ?it/s]"
      ]
     },
     "metadata": {},
     "output_type": "display_data"
    },
    {
     "name": "stdout",
     "output_type": "stream",
     "text": [
      "Epoch [98/100], Loss: 4.060728980376657\n"
     ]
    },
    {
     "data": {
      "application/vnd.jupyter.widget-view+json": {
       "model_id": "705f92465aef4d7e9f33bbad81808e7a",
       "version_major": 2,
       "version_minor": 0
      },
      "text/plain": [
       "Epoch 99/100:   0%|          | 0/226 [00:00<?, ?it/s]"
      ]
     },
     "metadata": {},
     "output_type": "display_data"
    },
    {
     "name": "stdout",
     "output_type": "stream",
     "text": [
      "Epoch [99/100], Loss: 4.061788607487636\n"
     ]
    },
    {
     "data": {
      "application/vnd.jupyter.widget-view+json": {
       "model_id": "dd73f1865a4d434cad47e72b6cb0519c",
       "version_major": 2,
       "version_minor": 0
      },
      "text/plain": [
       "Epoch 100/100:   0%|          | 0/226 [00:00<?, ?it/s]"
      ]
     },
     "metadata": {},
     "output_type": "display_data"
    },
    {
     "name": "stdout",
     "output_type": "stream",
     "text": [
      "Epoch [100/100], Loss: 4.062327656070743\n",
      "Training completed.\n"
     ]
    }
   ],
   "source": [
    "epochs = 100\n",
    "for epoch in range(epochs):\n",
    "    model.train()\n",
    "    total_loss = 0.0\n",
    "    # Use tqdm to create a progress bar for the training loop\n",
    "    progress_bar = tqdm(train_loader, desc=f\"Epoch {epoch+1}/{epochs}\")\n",
    "    for (x_i, x_j) in progress_bar:\n",
    "        x_i, x_j = x_i.to(device), x_j.to(device)\n",
    "        z_i, z_j = model(x_i), model(x_j)\n",
    "        loss = criterion(z_i, z_j)\n",
    "        optimizer.zero_grad()\n",
    "        loss.backward()\n",
    "        optimizer.step()\n",
    "        total_loss += loss.item()\n",
    "        \n",
    "        # Update the progress bar with the current loss\n",
    "        progress_bar.set_postfix(loss=total_loss / len(progress_bar))\n",
    "    \n",
    "    print(f\"Epoch [{epoch+1}/{epochs}], Loss: {total_loss/len(train_loader)}\")\n",
    "\n",
    "print(\"Training completed.\")"
   ]
  },
  {
   "cell_type": "code",
   "execution_count": 5,
   "id": "6c8484e6-c0fc-4e0d-bcab-417d13f7a429",
   "metadata": {},
   "outputs": [],
   "source": [
    "# save_path = \"./simclrv2.pth\"\n",
    "# torch.save(model.state_dict(), save_path)"
   ]
  },
  {
   "cell_type": "code",
   "execution_count": 42,
   "id": "d11400ff-ebc1-417a-b7a0-29349f193ca8",
   "metadata": {},
   "outputs": [
    {
     "data": {
      "text/plain": [
       "<All keys matched successfully>"
      ]
     },
     "execution_count": 42,
     "metadata": {},
     "output_type": "execute_result"
    }
   ],
   "source": [
    "model.load_state_dict(\n",
    "    torch.load(\"./simclrv2.pth\")\n",
    ")"
   ]
  },
  {
   "cell_type": "code",
   "execution_count": 53,
   "id": "fda8e1e6-85a8-4c61-9eba-9dda9c4fc7b1",
   "metadata": {},
   "outputs": [],
   "source": [
    "# Define transformations for training and validation\n",
    "train_transforms = transforms.Compose([\n",
    "    transforms.RandomResizedCrop(size=128),\n",
    "    transforms.RandomHorizontalFlip(),\n",
    "    transforms.ColorJitter(0.4, 0.4, 0.4, 0.4),\n",
    "    transforms.RandomGrayscale(p=0.2),\n",
    "    transforms.ToTensor(),\n",
    "    transforms.Normalize(mean=[0.5, 0.5, 0.5], std=[0.5, 0.5, 0.5])\n",
    "])\n",
    "\n",
    "val_transforms = transforms.Compose([\n",
    "    transforms.Resize(128),\n",
    "    transforms.CenterCrop(128),\n",
    "    transforms.ToTensor(),\n",
    "    transforms.Normalize(mean=[0.5, 0.5, 0.5], std=[0.5, 0.5, 0.5])\n",
    "])\n",
    "\n",
    "dataset = datasets.ImageFolder(root=data_dir, transform=train_transforms)\n",
    "\n",
    "# Split the dataset into training and validation sets\n",
    "train_size = int(0.8 * len(dataset))\n",
    "val_size = len(dataset) - train_size\n",
    "train_dataset, val_dataset = random_split(dataset, [train_size, val_size])\n",
    "\n",
    "# Update validation dataset with validation transforms\n",
    "val_dataset.dataset.transform = val_transforms\n",
    "\n",
    "train_loader = DataLoader(train_dataset, batch_size=256, shuffle=True, num_workers=4)\n",
    "val_loader = DataLoader(val_dataset, batch_size=256, shuffle=False, num_workers=4)\n"
   ]
  },
  {
   "cell_type": "code",
   "execution_count": 44,
   "id": "8cda7c81-03dc-4652-be27-8e218237aacd",
   "metadata": {},
   "outputs": [],
   "source": [
    "class SimpleClassifier(nn.Module):\n",
    "    def __init__(self, input_dim, num_classes):\n",
    "        super(SimpleClassifier, self).__init__()\n",
    "        self.fc = nn.Linear(input_dim, num_classes)\n",
    "\n",
    "    def forward(self, x):\n",
    "        x = torch.flatten(x, start_dim=1)\n",
    "        return torch.sigmoid(self.fc(x))\n",
    "\n",
    "device = torch.device(\"cuda\" if torch.cuda.is_available() else \"cpu\")\n",
    "input_dim = 128 # Adjust this based on your image size and number of channels\n",
    "num_classes = len(dataset.classes)\n",
    "clf = SimpleClassifier(input_dim, num_classes).to(device)"
   ]
  },
  {
   "cell_type": "code",
   "execution_count": 54,
   "id": "3dfad5c1-483d-477e-a73f-1bd7155f6122",
   "metadata": {},
   "outputs": [],
   "source": [
    "# Feature Extraction\n",
    "def extract_features_and_labels(model, dataloader, device):\n",
    "    model.eval()\n",
    "    features = []\n",
    "    labels = []\n",
    "    with torch.no_grad():\n",
    "        for (images, targets) in dataloader:\n",
    "            images = images.to(device)\n",
    "            feat = model.backbone(images)  # Extract features using the backbone\n",
    "            features.append(feat.cpu())\n",
    "            labels.append(targets.cpu())\n",
    "    features = torch.cat(features, dim=0)\n",
    "    labels = torch.cat(labels, dim=0)\n",
    "    return features, labels\n",
    "\n",
    "# Extract features and labels\n",
    "train_features, train_labels = extract_features_and_labels(model, train_loader, device)\n",
    "val_features, val_labels = extract_features_and_labels(model, val_loader, device)"
   ]
  },
  {
   "cell_type": "code",
   "execution_count": 59,
   "id": "d54fb5a4-c5b2-488c-a1eb-d84d33ef7263",
   "metadata": {},
   "outputs": [
    {
     "name": "stdout",
     "output_type": "stream",
     "text": [
      "Epoch [1/100], Loss: 0.006063874810934067\n",
      "Epoch [2/100], Loss: 0.0007958076894283295\n",
      "Epoch [3/100], Loss: 3.514560660278221e-07\n",
      "Epoch [4/100], Loss: 5.085250975866984e-08\n",
      "Epoch [5/100], Loss: 5.085250975866984e-08\n",
      "Epoch [6/100], Loss: 5.085250975866984e-08\n",
      "Epoch [7/100], Loss: 5.085250975866984e-08\n",
      "Epoch [8/100], Loss: 5.085250975866984e-08\n",
      "Epoch [9/100], Loss: 5.085250975866984e-08\n",
      "Epoch [10/100], Loss: 5.085250975866984e-08\n",
      "Epoch [11/100], Loss: 5.085250975866984e-08\n",
      "Epoch [12/100], Loss: 5.085250975866984e-08\n",
      "Epoch [13/100], Loss: 5.085250975866984e-08\n",
      "Epoch [14/100], Loss: 5.085250975866984e-08\n",
      "Epoch [15/100], Loss: 5.085250975866984e-08\n",
      "Epoch [16/100], Loss: 5.085250975866984e-08\n",
      "Epoch [17/100], Loss: 5.085250975866984e-08\n",
      "Epoch [18/100], Loss: 5.085250975866984e-08\n",
      "Epoch [19/100], Loss: 5.085250975866984e-08\n",
      "Epoch [20/100], Loss: 5.085250975866984e-08\n",
      "Epoch [21/100], Loss: 5.085250975866984e-08\n",
      "Epoch [22/100], Loss: 5.085250975866984e-08\n",
      "Epoch [23/100], Loss: 5.085250975866984e-08\n",
      "Epoch [24/100], Loss: 5.085250975866984e-08\n",
      "Epoch [25/100], Loss: 5.085250975866984e-08\n",
      "Epoch [26/100], Loss: 5.085250975866984e-08\n",
      "Epoch [27/100], Loss: 5.085250975866984e-08\n",
      "Epoch [28/100], Loss: 5.085250975866984e-08\n",
      "Epoch [29/100], Loss: 5.085250975866984e-08\n",
      "Epoch [30/100], Loss: 5.085250975866984e-08\n",
      "Epoch [31/100], Loss: 5.085250975866984e-08\n",
      "Epoch [32/100], Loss: 5.085250975866984e-08\n",
      "Epoch [33/100], Loss: 5.085250975866984e-08\n",
      "Epoch [34/100], Loss: 5.085250975866984e-08\n",
      "Epoch [35/100], Loss: 5.085250975866984e-08\n",
      "Epoch [36/100], Loss: 5.085250975866984e-08\n",
      "Epoch [37/100], Loss: 5.085250975866984e-08\n",
      "Epoch [38/100], Loss: 5.085250975866984e-08\n",
      "Epoch [39/100], Loss: 5.085250975866984e-08\n",
      "Epoch [40/100], Loss: 5.085250975866984e-08\n",
      "Epoch [41/100], Loss: 5.085250975866984e-08\n",
      "Epoch [42/100], Loss: 5.085250975866984e-08\n",
      "Epoch [43/100], Loss: 5.085250975866984e-08\n",
      "Epoch [44/100], Loss: 5.085250975866984e-08\n",
      "Epoch [45/100], Loss: 5.085250975866984e-08\n",
      "Epoch [46/100], Loss: 5.085250975866984e-08\n",
      "Epoch [47/100], Loss: 5.085250975866984e-08\n",
      "Epoch [48/100], Loss: 5.085250975866984e-08\n",
      "Epoch [49/100], Loss: 5.085250975866984e-08\n",
      "Epoch [50/100], Loss: 5.085250975866984e-08\n",
      "Epoch [51/100], Loss: 5.085250975866984e-08\n",
      "Epoch [52/100], Loss: 5.085250975866984e-08\n",
      "Epoch [53/100], Loss: 5.085250975866984e-08\n",
      "Epoch [54/100], Loss: 5.085250975866984e-08\n",
      "Epoch [55/100], Loss: 5.085250975866984e-08\n",
      "Epoch [56/100], Loss: 5.085250975866984e-08\n",
      "Epoch [57/100], Loss: 5.085250975866984e-08\n",
      "Epoch [58/100], Loss: 5.085250975866984e-08\n",
      "Epoch [59/100], Loss: 5.085250975866984e-08\n",
      "Epoch [60/100], Loss: 5.085250975866984e-08\n",
      "Epoch [61/100], Loss: 5.085250975866984e-08\n",
      "Epoch [62/100], Loss: 5.085250975866984e-08\n",
      "Epoch [63/100], Loss: 5.085250975866984e-08\n",
      "Epoch [64/100], Loss: 5.085250975866984e-08\n",
      "Epoch [65/100], Loss: 5.085250975866984e-08\n",
      "Epoch [66/100], Loss: 5.085250975866984e-08\n",
      "Epoch [67/100], Loss: 5.085250975866984e-08\n",
      "Epoch [68/100], Loss: 5.085250975866984e-08\n",
      "Epoch [69/100], Loss: 5.085250975866984e-08\n",
      "Epoch [70/100], Loss: 5.085250975866984e-08\n",
      "Epoch [71/100], Loss: 5.085250975866984e-08\n",
      "Epoch [72/100], Loss: 5.085250975866984e-08\n",
      "Epoch [73/100], Loss: 5.085250975866984e-08\n",
      "Epoch [74/100], Loss: 5.085250975866984e-08\n",
      "Epoch [75/100], Loss: 5.085250975866984e-08\n",
      "Epoch [76/100], Loss: 5.085250975866984e-08\n",
      "Epoch [77/100], Loss: 5.085250975866984e-08\n",
      "Epoch [78/100], Loss: 5.085250975866984e-08\n",
      "Epoch [79/100], Loss: 5.085250975866984e-08\n",
      "Epoch [80/100], Loss: 5.085250975866984e-08\n",
      "Epoch [81/100], Loss: 5.085250975866984e-08\n",
      "Epoch [82/100], Loss: 5.085250975866984e-08\n",
      "Epoch [83/100], Loss: 5.085250975866984e-08\n",
      "Epoch [84/100], Loss: 5.085250975866984e-08\n",
      "Epoch [85/100], Loss: 5.085250975866984e-08\n",
      "Epoch [86/100], Loss: 5.085250975866984e-08\n",
      "Epoch [87/100], Loss: 5.085250975866984e-08\n",
      "Epoch [88/100], Loss: 5.085250975866984e-08\n",
      "Epoch [89/100], Loss: 5.085250975866984e-08\n",
      "Epoch [90/100], Loss: 5.085250975866984e-08\n",
      "Epoch [91/100], Loss: 5.085250975866984e-08\n",
      "Epoch [92/100], Loss: 5.085250975866984e-08\n",
      "Epoch [93/100], Loss: 5.085250975866984e-08\n",
      "Epoch [94/100], Loss: 5.085250975866984e-08\n",
      "Epoch [95/100], Loss: 5.085250975866984e-08\n",
      "Epoch [96/100], Loss: 5.085250975866984e-08\n",
      "Epoch [97/100], Loss: 5.085250975866984e-08\n",
      "Epoch [98/100], Loss: 5.085250975866984e-08\n",
      "Epoch [99/100], Loss: 5.085250975866984e-08\n",
      "Epoch [100/100], Loss: 5.085250975866984e-08\n"
     ]
    }
   ],
   "source": [
    "# Define the linear classifier using torch.nn.Linear and train it using L-BFGS\n",
    "class LinearClassifier(nn.Module):\n",
    "    def __init__(self, input_dim, num_classes):\n",
    "        super(LinearClassifier, self).__init__()\n",
    "        self.fc = nn.Linear(input_dim, num_classes)\n",
    "\n",
    "    def forward(self, x):\n",
    "        return self.fc(x)\n",
    "\n",
    "def train_linear_classifier(classifier, features, labels, device, epochs=100):\n",
    "    classifier = classifier.to(device)\n",
    "    features = features.to(device)\n",
    "    labels = labels.to(device)\n",
    "    criterion = nn.CrossEntropyLoss()\n",
    "    optimizer = optim.LBFGS(classifier.parameters())\n",
    "\n",
    "    for epoch in range(epochs):\n",
    "        def closure():\n",
    "            optimizer.zero_grad()\n",
    "            outputs = classifier(features)\n",
    "            loss = criterion(outputs, labels)\n",
    "            loss.backward()\n",
    "            return loss\n",
    "        \n",
    "        optimizer.step(closure)\n",
    "        print(f\"Epoch [{epoch+1}/{epochs}], Loss: {closure().item()}\")\n",
    "\n",
    "# Define and train the linear classifier\n",
    "input_dim = train_features.size(1)\n",
    "num_classes = 2  # Automatically determine number of classes\n",
    "classifier = LinearClassifier(input_dim, num_classes)\n",
    "train_linear_classifier(classifier, train_features, train_labels, device)"
   ]
  },
  {
   "cell_type": "code",
   "execution_count": 64,
   "id": "66dd43d8-9589-409d-af0e-60eac6e52f7b",
   "metadata": {},
   "outputs": [],
   "source": [
    "def evaluate_model(classifier, features, labels, device):\n",
    "    classifier.eval()\n",
    "    features = features.to(device)\n",
    "    labels = labels.to(device)\n",
    "    with torch.no_grad():\n",
    "        outputs = classifier(features)\n",
    "        _, preds = torch.max(outputs, 1)\n",
    "    return preds.cpu().numpy(), labels.cpu().numpy()"
   ]
  },
  {
   "cell_type": "code",
   "execution_count": 66,
   "id": "2ba0addf-c898-4f5a-9445-7bb8b37ed0bc",
   "metadata": {},
   "outputs": [],
   "source": [
    "y_pred, y_true = evaluate_model(classifier, val_features, val_labels, device)"
   ]
  },
  {
   "cell_type": "code",
   "execution_count": 69,
   "id": "9e0c8d8e-74ee-49b7-b323-ed3b977b3afa",
   "metadata": {},
   "outputs": [],
   "source": [
    "from sklearn.metrics import confusion_matrix, ConfusionMatrixDisplay\n",
    "\n",
    "# Plot confusion matrix\n",
    "def plot_confusion_matrix(y_true, y_pred, classes):\n",
    "    cm = confusion_matrix(y_true, y_pred)\n",
    "    disp = ConfusionMatrixDisplay(confusion_matrix=cm, display_labels=classes)\n",
    "    disp.plot(cmap=plt.cm.Blues)\n",
    "    plt.show()"
   ]
  },
  {
   "cell_type": "code",
   "execution_count": 70,
   "id": "7c711150-4df7-425a-a6a4-2c6f8b2fd4a4",
   "metadata": {},
   "outputs": [
    {
     "data": {
      "image/png": "[encoded data removed]",
      "text/plain": [
       "<Figure size 640x480 with 2 Axes>"
      ]
     },
     "metadata": {},
     "output_type": "display_data"
    }
   ],
   "source": [
    "plot_confusion_matrix(y_true, y_pred, classes=val_dataset.dataset.classes)"
   ]
  },
  {
   "cell_type": "code",
   "execution_count": 73,
   "id": "269bd84f-b045-49c6-bcf0-336ef4e7399c",
   "metadata": {},
   "outputs": [
    {
     "name": "stdout",
     "output_type": "stream",
     "text": [
      "              precision    recall  f1-score   support\n",
      "\n",
      "           0     0.9993    0.9993    0.9993      2863\n",
      "           1     0.9993    0.9993    0.9993      2908\n",
      "\n",
      "    accuracy                         0.9993      5771\n",
      "   macro avg     0.9993    0.9993    0.9993      5771\n",
      "weighted avg     0.9993    0.9993    0.9993      5771\n",
      "\n"
     ]
    }
   ],
   "source": [
    "from sklearn.metrics import classification_report\n",
    "\n",
    "print(classification_report(y_true, y_pred, digits=4))"
   ]
  },
  {
   "cell_type": "code",
   "execution_count": 74,
   "id": "becc3e7f-3c70-45de-a7b6-b9ff28251f2e",
   "metadata": {},
   "outputs": [
    {
     "data": {
      "text/plain": [
       "5771"
      ]
     },
     "execution_count": 74,
     "metadata": {},
     "output_type": "execute_result"
    }
   ],
   "source": [
    "len(val_dataset)"
   ]
  }
 ],
 "metadata": {
  "kernelspec": {
   "display_name": "Python 3 (ipykernel)",
   "language": "python",
   "name": "python3"
  },
  "language_info": {
   "codemirror_mode": {
    "name": "ipython",
    "version": 3
   },
   "file_extension": ".py",
   "mimetype": "text/x-python",
   "name": "python",
   "nbconvert_exporter": "python",
   "pygments_lexer": "ipython3",
   "version": "3.10.12"
  }
 },
 "nbformat": 4,
 "nbformat_minor": 5
}
